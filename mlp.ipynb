{
 "cells": [
  {
   "cell_type": "code",
   "execution_count": 2,
   "metadata": {},
   "outputs": [],
   "source": [
    "\n",
    "\n",
    "import torch\n",
    "import torch.nn.functional as F\n",
    "import matplotlib.pyplot as plt\n",
    "\n",
    "%matplotlib inline"
   ]
  },
  {
   "cell_type": "code",
   "execution_count": 7,
   "metadata": {},
   "outputs": [
    {
     "data": {
      "text/plain": [
       "['emma', 'olivia', 'ava', 'isabella', 'sophia', 'charlotte', 'mia', 'amelia']"
      ]
     },
     "execution_count": 7,
     "metadata": {},
     "output_type": "execute_result"
    }
   ],
   "source": [
    "words = open('names.txt', 'r').read().splitlines()\n",
    "\n",
    "words[:8]"
   ]
  },
  {
   "cell_type": "code",
   "execution_count": 8,
   "metadata": {},
   "outputs": [
    {
     "data": {
      "text/plain": [
       "32033"
      ]
     },
     "execution_count": 8,
     "metadata": {},
     "output_type": "execute_result"
    }
   ],
   "source": [
    "len(words)"
   ]
  },
  {
   "cell_type": "code",
   "execution_count": 9,
   "metadata": {},
   "outputs": [
    {
     "name": "stdout",
     "output_type": "stream",
     "text": [
      "{1: 'a', 2: 'b', 3: 'c', 4: 'd', 5: 'e', 6: 'f', 7: 'g', 8: 'h', 9: 'i', 10: 'j', 11: 'k', 12: 'l', 13: 'm', 14: 'n', 15: 'o', 16: 'p', 17: 'q', 18: 'r', 19: 's', 20: 't', 21: 'u', 22: 'v', 23: 'w', 24: 'x', 25: 'y', 26: 'z', 0: '.'}\n"
     ]
    }
   ],
   "source": [
    "chars = sorted(list(set(''.join(words))))\n",
    "stoi = { s:i+1 for i,s in enumerate(chars)}\n",
    "stoi['.'] = 0\n",
    "\n",
    "itos = {i:s for s,i in stoi.items()}\n",
    "print(itos)"
   ]
  },
  {
   "cell_type": "code",
   "execution_count": 127,
   "metadata": {},
   "outputs": [],
   "source": [
    "\n",
    "# build dataset\n",
    "\n",
    "block_size = 3 # ctx length: how many chars we take to predict the next one \n",
    "X, Y = [], []\n",
    "\n",
    "for w in words[:5]:\n",
    "  # print(w)\n",
    "  context = [0] * block_size\n",
    "  for ch in w + '.':\n",
    "    ix = stoi[ch]\n",
    "    X.append(context)\n",
    "    Y.append(ix)\n",
    "    # print(''.join(itos[i] for i in context), '--->', itos[ix])\n",
    "    context = context[1:] + [ix]\n",
    "\n",
    "X = torch.tensor(X)\n",
    "Y = torch.tensor(Y)"
   ]
  },
  {
   "cell_type": "code",
   "execution_count": 128,
   "metadata": {},
   "outputs": [
    {
     "name": "stdout",
     "output_type": "stream",
     "text": [
      "torch.Size([32, 3]) torch.Size([32])\n"
     ]
    },
    {
     "data": {
      "text/plain": [
       "(tensor([[ 0,  0,  0],\n",
       "         [ 0,  0,  5],\n",
       "         [ 0,  5, 13],\n",
       "         [ 5, 13, 13],\n",
       "         [13, 13,  1],\n",
       "         [ 0,  0,  0],\n",
       "         [ 0,  0, 15],\n",
       "         [ 0, 15, 12],\n",
       "         [15, 12,  9],\n",
       "         [12,  9, 22],\n",
       "         [ 9, 22,  9],\n",
       "         [22,  9,  1],\n",
       "         [ 0,  0,  0],\n",
       "         [ 0,  0,  1],\n",
       "         [ 0,  1, 22],\n",
       "         [ 1, 22,  1],\n",
       "         [ 0,  0,  0],\n",
       "         [ 0,  0,  9],\n",
       "         [ 0,  9, 19],\n",
       "         [ 9, 19,  1],\n",
       "         [19,  1,  2],\n",
       "         [ 1,  2,  5],\n",
       "         [ 2,  5, 12],\n",
       "         [ 5, 12, 12],\n",
       "         [12, 12,  1],\n",
       "         [ 0,  0,  0],\n",
       "         [ 0,  0, 19],\n",
       "         [ 0, 19, 15],\n",
       "         [19, 15, 16],\n",
       "         [15, 16,  8],\n",
       "         [16,  8,  9],\n",
       "         [ 8,  9,  1]]),\n",
       " tensor([ 5, 13, 13,  1,  0, 15, 12,  9, 22,  9,  1,  0,  1, 22,  1,  0,  9, 19,\n",
       "          1,  2,  5, 12, 12,  1,  0, 19, 15, 16,  8,  9,  1,  0]))"
      ]
     },
     "execution_count": 128,
     "metadata": {},
     "output_type": "execute_result"
    }
   ],
   "source": [
    "print(X.shape, Y.shape)\n",
    "X, Y"
   ]
  },
  {
   "cell_type": "code",
   "execution_count": 115,
   "metadata": {},
   "outputs": [
    {
     "data": {
      "text/plain": [
       "<matplotlib.image.AxesImage at 0x13a9e2aa0>"
      ]
     },
     "execution_count": 115,
     "metadata": {},
     "output_type": "execute_result"
    },
    {
     "data": {
      "image/png": "[encoded data removed]",
      "text/plain": [
       "<Figure size 640x480 with 1 Axes>"
      ]
     },
     "metadata": {},
     "output_type": "display_data"
    }
   ],
   "source": [
    "C = torch.randn((27, 2))\n",
    "\n",
    "plt.imshow(C.T)"
   ]
  },
  {
   "cell_type": "code",
   "execution_count": 116,
   "metadata": {},
   "outputs": [
    {
     "data": {
      "text/plain": [
       "tensor([ 1.0162, -0.3227])"
      ]
     },
     "execution_count": 116,
     "metadata": {},
     "output_type": "execute_result"
    }
   ],
   "source": [
    "C[5]"
   ]
  },
  {
   "cell_type": "code",
   "execution_count": 117,
   "metadata": {},
   "outputs": [
    {
     "data": {
      "text/plain": [
       "tensor([[ 1.0162, -0.3227],\n",
       "        [ 0.0978, -0.7014],\n",
       "        [-0.2455, -0.6248]])"
      ]
     },
     "execution_count": 117,
     "metadata": {},
     "output_type": "execute_result"
    }
   ],
   "source": [
    "F.one_hot(torch.tensor([ 5, 6, 7]), num_classes=27).float() @ C"
   ]
  },
  {
   "cell_type": "code",
   "execution_count": 118,
   "metadata": {},
   "outputs": [
    {
     "data": {
      "text/plain": [
       "torch.Size([16, 5, 2])"
      ]
     },
     "execution_count": 118,
     "metadata": {},
     "output_type": "execute_result"
    }
   ],
   "source": [
    "emb = C[X]\n",
    "emb.shape"
   ]
  },
  {
   "cell_type": "code",
   "execution_count": 119,
   "metadata": {},
   "outputs": [
    {
     "data": {
      "text/plain": [
       "tensor([[True, True],\n",
       "        [True, True],\n",
       "        [True, True]])"
      ]
     },
     "execution_count": 119,
     "metadata": {},
     "output_type": "execute_result"
    }
   ],
   "source": [
    "C[[5, 6, 7]] == F.one_hot(torch.tensor([ 5, 6, 7]), num_classes=27).float() @ C # indexing is basically matrix multiplication!!!!!!!!!!!"
   ]
  },
  {
   "cell_type": "code",
   "execution_count": 120,
   "metadata": {},
   "outputs": [
    {
     "data": {
      "text/plain": [
       "tensor([[[ 1.8538,  0.3457],\n",
       "         [ 1.8538,  0.3457],\n",
       "         [ 1.8538,  0.3457],\n",
       "         [ 1.8538,  0.3457],\n",
       "         [ 1.8538,  0.3457]],\n",
       "\n",
       "        [[ 1.8538,  0.3457],\n",
       "         [ 1.8538,  0.3457],\n",
       "         [ 1.8538,  0.3457],\n",
       "         [ 1.8538,  0.3457],\n",
       "         [ 1.0162, -0.3227]],\n",
       "\n",
       "        [[ 1.8538,  0.3457],\n",
       "         [ 1.8538,  0.3457],\n",
       "         [ 1.8538,  0.3457],\n",
       "         [ 1.0162, -0.3227],\n",
       "         [ 0.9725, -0.4368]],\n",
       "\n",
       "        [[ 1.8538,  0.3457],\n",
       "         [ 1.8538,  0.3457],\n",
       "         [ 1.0162, -0.3227],\n",
       "         [ 0.9725, -0.4368],\n",
       "         [ 0.9725, -0.4368]],\n",
       "\n",
       "        [[ 1.8538,  0.3457],\n",
       "         [ 1.0162, -0.3227],\n",
       "         [ 0.9725, -0.4368],\n",
       "         [ 0.9725, -0.4368],\n",
       "         [-0.9366, -0.0159]],\n",
       "\n",
       "        [[ 1.8538,  0.3457],\n",
       "         [ 1.8538,  0.3457],\n",
       "         [ 1.8538,  0.3457],\n",
       "         [ 1.8538,  0.3457],\n",
       "         [ 1.8538,  0.3457]],\n",
       "\n",
       "        [[ 1.8538,  0.3457],\n",
       "         [ 1.8538,  0.3457],\n",
       "         [ 1.8538,  0.3457],\n",
       "         [ 1.8538,  0.3457],\n",
       "         [ 0.3906,  0.0480]],\n",
       "\n",
       "        [[ 1.8538,  0.3457],\n",
       "         [ 1.8538,  0.3457],\n",
       "         [ 1.8538,  0.3457],\n",
       "         [ 0.3906,  0.0480],\n",
       "         [-0.3932,  0.3180]],\n",
       "\n",
       "        [[ 1.8538,  0.3457],\n",
       "         [ 1.8538,  0.3457],\n",
       "         [ 0.3906,  0.0480],\n",
       "         [-0.3932,  0.3180],\n",
       "         [-1.1619,  0.0028]],\n",
       "\n",
       "        [[ 1.8538,  0.3457],\n",
       "         [ 0.3906,  0.0480],\n",
       "         [-0.3932,  0.3180],\n",
       "         [-1.1619,  0.0028],\n",
       "         [ 1.0926,  1.1841]],\n",
       "\n",
       "        [[ 0.3906,  0.0480],\n",
       "         [-0.3932,  0.3180],\n",
       "         [-1.1619,  0.0028],\n",
       "         [ 1.0926,  1.1841],\n",
       "         [-1.1619,  0.0028]],\n",
       "\n",
       "        [[-0.3932,  0.3180],\n",
       "         [-1.1619,  0.0028],\n",
       "         [ 1.0926,  1.1841],\n",
       "         [-1.1619,  0.0028],\n",
       "         [-0.9366, -0.0159]],\n",
       "\n",
       "        [[ 1.8538,  0.3457],\n",
       "         [ 1.8538,  0.3457],\n",
       "         [ 1.8538,  0.3457],\n",
       "         [ 1.8538,  0.3457],\n",
       "         [ 1.8538,  0.3457]],\n",
       "\n",
       "        [[ 1.8538,  0.3457],\n",
       "         [ 1.8538,  0.3457],\n",
       "         [ 1.8538,  0.3457],\n",
       "         [ 1.8538,  0.3457],\n",
       "         [-0.9366, -0.0159]],\n",
       "\n",
       "        [[ 1.8538,  0.3457],\n",
       "         [ 1.8538,  0.3457],\n",
       "         [ 1.8538,  0.3457],\n",
       "         [-0.9366, -0.0159],\n",
       "         [ 1.0926,  1.1841]],\n",
       "\n",
       "        [[ 1.8538,  0.3457],\n",
       "         [ 1.8538,  0.3457],\n",
       "         [-0.9366, -0.0159],\n",
       "         [ 1.0926,  1.1841],\n",
       "         [-0.9366, -0.0159]]])"
      ]
     },
     "execution_count": 120,
     "metadata": {},
     "output_type": "execute_result"
    }
   ],
   "source": [
    "C[X]"
   ]
  },
  {
   "cell_type": "code",
   "execution_count": 121,
   "metadata": {},
   "outputs": [
    {
     "data": {
      "text/plain": [
       "torch.Size([16, 5, 2])"
      ]
     },
     "execution_count": 121,
     "metadata": {},
     "output_type": "execute_result"
    }
   ],
   "source": [
    "W1 = torch.randn((6, 100))\n",
    "b1 = torch.randn(100)\n",
    "\n",
    "emb.shape"
   ]
  },
  {
   "cell_type": "code",
   "execution_count": 122,
   "metadata": {},
   "outputs": [
    {
     "ename": "RuntimeError",
     "evalue": "shape '[-1, 6]' is invalid for input of size 160",
     "output_type": "error",
     "traceback": [
      "\u001b[0;31m---------------------------------------------------------------------------\u001b[0m",
      "\u001b[0;31mRuntimeError\u001b[0m                              Traceback (most recent call last)",
      "Cell \u001b[0;32mIn [122], line 2\u001b[0m\n\u001b[1;32m      1\u001b[0m \u001b[38;5;66;03m# h = emb.view(emb.shape[0], 6) @ W1 + b1\u001b[39;00m\n\u001b[0;32m----> 2\u001b[0m h \u001b[38;5;241m=\u001b[39m \u001b[43memb\u001b[49m\u001b[38;5;241;43m.\u001b[39;49m\u001b[43mview\u001b[49m\u001b[43m(\u001b[49m\u001b[38;5;241;43m-\u001b[39;49m\u001b[38;5;241;43m1\u001b[39;49m\u001b[43m,\u001b[49m\u001b[43m \u001b[49m\u001b[38;5;241;43m6\u001b[39;49m\u001b[43m)\u001b[49m \u001b[38;5;241m@\u001b[39m W1 \u001b[38;5;241m+\u001b[39m b1 \u001b[38;5;66;03m# pytorch will derive what -1 is should be\u001b[39;00m\n\u001b[1;32m      3\u001b[0m h \u001b[38;5;241m=\u001b[39m torch\u001b[38;5;241m.\u001b[39mtanh(h)\n",
      "\u001b[0;31mRuntimeError\u001b[0m: shape '[-1, 6]' is invalid for input of size 160"
     ]
    }
   ],
   "source": [
    "# h = emb.view(emb.shape[0], 6) @ W1 + b1\n",
    "h = emb.view(-1, 6) @ W1 + b1 # pytorch will derive what -1 is should be\n",
    "h = torch.tanh(h) # activate\n",
    "# h = torch.relu(h) # activate"
   ]
  },
  {
   "cell_type": "code",
   "execution_count": 123,
   "metadata": {},
   "outputs": [
    {
     "data": {
      "text/plain": [
       "(tensor([[ 1.0000,  1.0000, -0.4659,  ..., -1.0000, -0.9999, -0.9995],\n",
       "         [ 0.9993,  1.0000, -0.9928,  ..., -1.0000, -0.9989, -0.9999],\n",
       "         [ 0.2608,  0.9994, -0.9929,  ..., -0.9916, -0.3320, -1.0000],\n",
       "         ...,\n",
       "         [-1.0000, -0.9540,  0.7247,  ...,  0.9996,  0.9960,  0.9898],\n",
       "         [-1.0000, -0.9978,  0.9505,  ...,  0.9990,  1.0000, -0.6791],\n",
       "         [-0.9998, -1.0000,  0.4395,  ...,  0.9971,  0.9999,  0.9999]]),\n",
       " torch.Size([32, 100]))"
      ]
     },
     "execution_count": 123,
     "metadata": {},
     "output_type": "execute_result"
    }
   ],
   "source": [
    "h, h.shape"
   ]
  },
  {
   "cell_type": "code",
   "execution_count": 91,
   "metadata": {},
   "outputs": [],
   "source": [
    "W2 = torch.randn((100, 27))\n",
    "b2 = torch.randn(27)"
   ]
  },
  {
   "cell_type": "code",
   "execution_count": 92,
   "metadata": {},
   "outputs": [],
   "source": [
    "logits = h @ W2 + b2"
   ]
  },
  {
   "cell_type": "code",
   "execution_count": 93,
   "metadata": {},
   "outputs": [
    {
     "data": {
      "text/plain": [
       "(tensor([[-4.2662e-01, -8.9303e+00, -7.7813e+00, -1.7181e+01,  9.5200e+00,\n",
       "          -1.5482e+01, -1.7980e+01, -3.3677e+00,  4.2612e+00, -6.7466e+00,\n",
       "          -1.3978e+00,  4.0673e+00,  6.8487e-01, -4.7868e+00,  1.2902e+01,\n",
       "          -4.2402e+00,  1.3204e+00, -7.0636e+00, -3.8018e+00, -6.7801e+00,\n",
       "          -2.3382e+01, -6.0257e-01,  5.9234e+00, -4.2173e+00,  2.2128e+00,\n",
       "          -3.3702e+00, -1.8115e+01],\n",
       "         [-1.1605e+01, -1.0018e+01, -5.4519e+00, -1.8666e+01,  4.2371e+00,\n",
       "          -1.5040e+01, -2.0843e+01,  2.5892e+00,  1.1168e+00, -7.6211e+00,\n",
       "          -1.8843e+00,  3.6038e+00, -1.5886e-01, -3.2294e+00,  1.2787e+01,\n",
       "          -6.3834e+00,  1.8909e+00, -6.4268e+00, -1.7399e+00, -5.0459e+00,\n",
       "          -2.2006e+01,  3.6385e+00,  3.1106e-01, -1.1376e+01,  6.9444e+00,\n",
       "          -7.3056e+00, -6.3611e+00],\n",
       "         [-1.3691e+01, -3.7486e+00, -9.9078e+00, -1.6743e+01,  1.3248e+00,\n",
       "          -7.2628e+00, -1.5501e+01,  7.5653e+00,  4.9044e+00, -1.7159e+00,\n",
       "          -7.2896e+00,  8.3021e+00,  5.1389e+00,  1.4199e+00,  1.2689e+01,\n",
       "          -7.4834e+00, -6.2683e+00, -6.3159e+00,  8.3690e+00,  1.7468e+00,\n",
       "          -1.3936e+01, -1.2340e+00, -3.5226e+00, -5.7000e+00,  4.1160e+00,\n",
       "           4.7265e+00,  2.2374e+00],\n",
       "         [-7.9616e+00,  8.1699e+00, -1.1332e+01, -1.4163e+01,  3.0987e+00,\n",
       "          -3.3435e+00, -7.8109e+00, -4.7329e+00,  9.9079e+00,  3.0541e+00,\n",
       "          -5.6235e-01,  1.2029e+01, -1.1016e+01,  6.7597e-01,  1.0466e+01,\n",
       "          -2.0296e+00, -6.0754e-01,  2.0081e+00,  2.8373e+00, -6.9339e+00,\n",
       "          -1.1633e+01,  8.6720e+00,  2.8106e+00, -4.9630e+00,  8.2222e+00,\n",
       "           3.1709e-01,  7.8890e-01],\n",
       "         [-5.6480e+00,  1.0668e+01, -4.3512e+00, -8.5808e+00,  1.9598e+00,\n",
       "          -7.5084e+00, -5.0807e+00, -1.4357e+00,  1.2629e+01,  7.9475e-01,\n",
       "          -1.7407e-01,  1.0603e+01, -6.3823e+00,  6.4223e+00,  4.4618e+00,\n",
       "          -4.9622e-02, -7.3318e-01,  8.5819e+00,  9.2717e+00, -5.8536e+00,\n",
       "          -4.0351e-01,  6.0631e+00, -1.0249e+00, -1.2100e+01,  1.8475e+01,\n",
       "           1.8391e+00,  4.0009e+00],\n",
       "         [-4.2662e-01, -8.9303e+00, -7.7813e+00, -1.7181e+01,  9.5200e+00,\n",
       "          -1.5482e+01, -1.7980e+01, -3.3677e+00,  4.2612e+00, -6.7466e+00,\n",
       "          -1.3978e+00,  4.0673e+00,  6.8487e-01, -4.7868e+00,  1.2902e+01,\n",
       "          -4.2402e+00,  1.3204e+00, -7.0636e+00, -3.8018e+00, -6.7801e+00,\n",
       "          -2.3382e+01, -6.0257e-01,  5.9234e+00, -4.2173e+00,  2.2128e+00,\n",
       "          -3.3702e+00, -1.8115e+01],\n",
       "         [-1.1245e+01, -5.7738e+00, -1.1876e+00, -1.6295e+01, -7.9963e-01,\n",
       "          -5.4813e+00, -1.9124e+01,  6.6706e+00, -2.2316e+00, -6.4523e+00,\n",
       "          -4.2812e+00, -8.0009e+00,  6.4782e+00, -2.0042e+00,  7.5305e+00,\n",
       "          -2.0732e+00, -2.8644e+00, -8.0104e-01,  1.8374e+00,  4.4531e+00,\n",
       "          -1.0385e+01, -2.0340e+00, -2.0481e+00, -1.3839e+01,  1.2122e+01,\n",
       "          -4.1455e+00,  8.9741e-01],\n",
       "         [-1.5200e+01, -3.9172e+00, -7.3251e-01, -4.7959e+00, -1.6596e+00,\n",
       "           3.5918e+00,  6.8702e+00,  8.9673e+00,  1.4346e+00,  6.1428e+00,\n",
       "          -7.3236e+00,  4.0669e+00,  1.0255e+01,  2.0153e+01,  5.6726e+00,\n",
       "          -1.7323e+01, -6.9003e+00,  1.1356e+01,  1.9098e+01,  1.0950e+01,\n",
       "           3.5394e+00, -1.6698e+00, -9.4355e+00,  1.1598e+01,  2.8048e+00,\n",
       "           7.0629e+00,  6.2255e+00],\n",
       "         [ 1.4503e+01,  1.6357e+01, -6.0365e+00,  3.2689e+00, -3.4737e+00,\n",
       "          -1.1056e+01,  9.2969e+00, -7.7226e+00,  1.1081e+01, -4.3747e+00,\n",
       "           4.3801e+00,  4.7562e+00, -1.0553e+01,  1.2047e+01,  8.1316e+00,\n",
       "           4.2296e+00, -1.5069e-02,  5.6389e+00,  6.8839e+00, -1.1810e+01,\n",
       "           5.1480e+00,  7.4871e+00,  6.9951e+00, -1.1849e+01,  1.1306e+01,\n",
       "          -8.7545e+00,  9.8085e+00],\n",
       "         [-9.4117e-01,  7.8812e+00, -1.8088e+00, -3.1315e+00, -6.4354e+00,\n",
       "          -4.1327e+00, -6.3612e+00, -7.3646e+00,  3.8537e+00,  1.7990e+00,\n",
       "          -8.3655e+00,  4.6765e-01, -6.9959e+00, -1.5951e+01, -1.2144e+01,\n",
       "          -7.9176e-01,  8.4057e-01,  3.4178e+00, -9.8050e+00, -1.9464e+00,\n",
       "          -8.2147e+00,  1.3284e+01,  8.8056e+00, -2.4900e+00, -2.7581e+00,\n",
       "          -1.2351e+01,  1.3310e+00],\n",
       "         [ 7.9157e-01,  2.8176e+00, -2.7748e+00, -6.0453e+00,  9.7428e+00,\n",
       "          -1.9677e+00,  8.9946e-02,  7.3633e+00,  2.7583e+00,  4.8635e+00,\n",
       "           2.4179e+00,  1.0537e+01, -1.2526e+01,  1.9796e+01,  1.9357e+01,\n",
       "           8.5964e+00,  1.1859e+01,  2.0907e+01,  1.0787e+01, -1.2157e+01,\n",
       "          -1.9281e+00, -1.4220e+00, -9.5776e-01, -1.0207e+01,  1.3084e+01,\n",
       "          -3.0361e+00, -3.9260e+00],\n",
       "         [-8.6256e+00,  1.3655e+01, -2.0154e+00, -8.5466e-01, -4.8741e+00,\n",
       "          -1.6935e+01,  2.5997e+00,  4.5432e+00,  5.9756e+00, -9.4934e+00,\n",
       "          -3.7466e+00,  3.1259e+00, -3.0224e+00,  5.2122e+00,  8.4028e+00,\n",
       "          -8.7900e-01, -1.9745e+01, -9.2814e+00,  7.9585e+00, -6.2464e+00,\n",
       "          -2.3136e+00,  9.2365e+00,  9.1952e+00, -5.5213e-01,  1.0462e+01,\n",
       "          -3.5204e+00,  5.4198e+00],\n",
       "         [-4.2662e-01, -8.9303e+00, -7.7813e+00, -1.7181e+01,  9.5200e+00,\n",
       "          -1.5482e+01, -1.7980e+01, -3.3677e+00,  4.2612e+00, -6.7466e+00,\n",
       "          -1.3978e+00,  4.0673e+00,  6.8487e-01, -4.7868e+00,  1.2902e+01,\n",
       "          -4.2402e+00,  1.3204e+00, -7.0636e+00, -3.8018e+00, -6.7801e+00,\n",
       "          -2.3382e+01, -6.0257e-01,  5.9234e+00, -4.2173e+00,  2.2128e+00,\n",
       "          -3.3702e+00, -1.8115e+01],\n",
       "         [-1.3992e+01, -6.8959e+00, -2.7135e+00, -1.8831e+01, -1.0463e+00,\n",
       "          -8.2943e+00, -1.9969e+01,  6.1298e+00,  2.5713e+00, -4.6805e+00,\n",
       "          -4.5897e+00, -2.9437e+00,  4.3075e+00,  1.5783e+00,  9.5835e+00,\n",
       "          -3.2607e+00, -4.3190e+00,  1.5480e-02,  4.0664e+00,  1.8781e+00,\n",
       "          -1.4455e+01, -3.1459e+00, -3.8700e+00, -1.3914e+01,  8.6948e+00,\n",
       "          -3.1329e+00,  1.3270e+00],\n",
       "         [-9.9340e+00, -7.4913e+00, -7.5703e+00, -9.8148e+00, -3.0812e+00,\n",
       "           7.9181e+00,  8.9025e+00, -9.3515e-01, -1.6982e+00,  3.3806e+00,\n",
       "          -1.9337e+01, -6.1106e+00,  2.4677e+00,  4.1689e+00, -3.5233e+00,\n",
       "          -1.6839e+01, -1.3306e+01,  4.0855e+00,  8.7723e+00,  1.1908e+01,\n",
       "          -4.6666e+00,  4.0170e+00, -6.4677e-02,  1.5500e+01, -1.4761e+01,\n",
       "           1.1907e+01,  1.0196e+00],\n",
       "         [ 1.9058e+00,  5.6089e+00,  1.8472e+00,  6.6076e+00, -3.5429e+00,\n",
       "          -1.4977e+00,  4.6396e+00,  4.8707e-01,  4.3909e+00, -3.4179e+00,\n",
       "          -2.1699e+00, -2.6357e+00, -6.6040e+00,  1.4908e+01,  4.6494e+00,\n",
       "           9.4589e+00,  8.5310e+00,  2.4046e+01, -8.0810e-01, -9.4222e+00,\n",
       "           4.4126e+00, -3.8440e+00, -1.3517e+00, -9.7713e+00,  1.2077e+01,\n",
       "          -8.5499e-01, -2.3932e-01],\n",
       "         [-4.2662e-01, -8.9303e+00, -7.7813e+00, -1.7181e+01,  9.5200e+00,\n",
       "          -1.5482e+01, -1.7980e+01, -3.3677e+00,  4.2612e+00, -6.7466e+00,\n",
       "          -1.3978e+00,  4.0673e+00,  6.8487e-01, -4.7868e+00,  1.2902e+01,\n",
       "          -4.2402e+00,  1.3204e+00, -7.0636e+00, -3.8018e+00, -6.7801e+00,\n",
       "          -2.3382e+01, -6.0257e-01,  5.9234e+00, -4.2173e+00,  2.2128e+00,\n",
       "          -3.3702e+00, -1.8115e+01],\n",
       "         [-1.3673e+01, -7.9893e+00, -4.7724e+00, -1.8837e+01,  1.8735e+00,\n",
       "          -1.4562e+01, -1.9172e+01,  8.0679e+00,  4.0500e+00, -6.2448e+00,\n",
       "          -3.8486e+00,  3.8674e+00, -1.4849e+00,  2.8159e+00,  1.7939e+01,\n",
       "          -4.4771e+00, -5.9444e+00, -4.7415e+00,  6.6173e+00, -4.7671e+00,\n",
       "          -1.6953e+01, -2.5597e+00, -3.5246e+00, -1.1026e+01,  8.5356e+00,\n",
       "          -4.8261e+00,  3.0784e+00],\n",
       "         [-4.2347e+00, -2.9811e+00, -1.3923e+01, -1.9019e+01,  3.5234e+00,\n",
       "          -2.4585e+00, -5.8980e+00,  5.0059e+00,  9.1734e+00,  1.4289e+00,\n",
       "          -6.3746e+00,  6.9735e+00, -2.2668e+00,  6.1764e-01,  2.7872e+00,\n",
       "          -1.4384e+01, -7.7638e+00, -1.3453e+01,  1.4109e+01, -3.1138e+00,\n",
       "          -1.1370e+01,  6.3284e+00,  1.1083e+01,  3.4437e+00, -1.0934e+01,\n",
       "           4.3455e+00, -3.3578e+00],\n",
       "         [ 9.9884e+00,  6.7183e+00,  2.8569e+00, -1.3704e+01,  5.7199e+00,\n",
       "          -9.2624e+00, -1.7710e+01, -4.6573e+00,  3.7041e+00, -6.7023e+00,\n",
       "           3.3629e+00,  3.9788e+00, -4.1080e+00, -8.3034e+00,  8.8783e+00,\n",
       "          -1.9167e+00,  1.0780e+01, -2.2557e+00, -1.0755e+00, -8.2738e+00,\n",
       "          -1.2157e+01,  3.3052e+00, -5.4410e-01, -1.5092e+01,  7.7639e+00,\n",
       "          -1.2352e+01, -2.8026e-01],\n",
       "         [-1.2415e+01, -9.1426e-01,  4.2852e-01, -7.3146e+00,  1.9210e-01,\n",
       "           2.2975e+00,  4.7617e-01,  9.2647e+00,  4.9310e+00,  2.0689e+00,\n",
       "          -4.6465e+00,  9.0069e+00,  6.7563e+00,  1.4917e+01,  5.9038e+00,\n",
       "          -1.7330e+01, -4.0507e+00,  6.9644e+00,  1.6668e+01,  7.8318e+00,\n",
       "           1.5793e+00,  4.2207e+00, -8.5949e+00,  3.3412e+00,  4.3977e+00,\n",
       "           4.2043e+00,  7.4771e+00],\n",
       "         [ 1.6589e+01,  1.5257e+01, -1.1124e+01, -3.6323e+00, -5.5765e-01,\n",
       "          -1.2623e+01,  5.3275e+00, -2.6686e+00,  1.3952e+01, -4.6093e+00,\n",
       "          -2.2956e-01,  1.2655e+01, -1.2335e+01,  1.0890e+01,  9.2016e+00,\n",
       "           9.5226e-01,  2.4916e+00,  7.3051e+00, -3.6116e-01, -1.1274e+01,\n",
       "          -5.9021e+00,  1.3005e+01,  1.5046e+01, -1.9540e+00,  1.1212e+00,\n",
       "          -1.1858e+01,  3.1094e+00],\n",
       "         [ 5.3975e+00,  1.2196e+01, -3.2609e+00, -8.5884e+00, -1.0201e+00,\n",
       "          -1.0262e+01, -6.6127e+00, -5.8144e+00,  9.7242e+00, -4.1250e+00,\n",
       "          -6.4838e-01,  8.3491e+00, -7.6179e+00, -2.5892e+00,  5.2501e+00,\n",
       "           8.2409e-03,  2.3406e+00,  2.3991e+00, -3.6220e+00, -4.3528e+00,\n",
       "          -8.0312e+00,  1.0588e+01,  5.2636e+00, -1.0701e+01,  9.1332e+00,\n",
       "          -7.2863e+00,  1.8349e+00],\n",
       "         [-1.3383e+01,  4.4438e+00, -6.1369e+00, -9.2184e+00, -3.5873e-01,\n",
       "           3.2450e+00, -1.4578e+00,  6.7261e-01,  6.9292e+00,  8.6420e+00,\n",
       "          -1.7567e+00,  1.1066e+01, -6.3836e+00,  7.7618e+00,  4.0476e+00,\n",
       "          -8.5128e+00,  4.1033e+00,  1.2923e+01,  6.5797e+00, -1.8986e+00,\n",
       "           1.5085e+00,  7.6791e+00, -6.5968e+00, -7.3230e-02,  1.0271e+01,\n",
       "           2.1937e+00,  3.6193e+00],\n",
       "         [ 2.2651e+00,  1.5619e+01, -8.2955e+00,  2.9172e+00, -3.1084e+00,\n",
       "          -3.5696e+00,  5.4744e+00, -1.0804e+00,  8.0590e+00, -4.8868e+00,\n",
       "           2.8199e-01,  5.3166e+00, -1.0789e+01,  9.1229e+00,  4.9351e+00,\n",
       "           1.4357e+00,  1.1584e+00,  7.8972e+00,  5.6245e+00, -7.0465e+00,\n",
       "           9.4625e+00,  6.5815e+00,  4.4049e+00, -6.0533e+00,  1.6143e+01,\n",
       "          -2.8101e+00,  7.1834e+00],\n",
       "         [-4.2662e-01, -8.9303e+00, -7.7813e+00, -1.7181e+01,  9.5200e+00,\n",
       "          -1.5482e+01, -1.7980e+01, -3.3677e+00,  4.2612e+00, -6.7466e+00,\n",
       "          -1.3978e+00,  4.0673e+00,  6.8487e-01, -4.7868e+00,  1.2902e+01,\n",
       "          -4.2402e+00,  1.3204e+00, -7.0636e+00, -3.8018e+00, -6.7801e+00,\n",
       "          -2.3382e+01, -6.0257e-01,  5.9234e+00, -4.2173e+00,  2.2128e+00,\n",
       "          -3.3702e+00, -1.8115e+01],\n",
       "         [-2.9441e+00, -8.6314e+00, -6.5521e+00, -1.8212e+01,  8.4147e+00,\n",
       "          -1.6391e+01, -1.9354e+01, -3.8882e+00,  4.1185e+00, -6.2988e+00,\n",
       "          -1.5698e+00,  5.0830e+00,  5.6900e-01, -3.1760e+00,  1.4386e+01,\n",
       "          -5.0141e+00,  2.9339e+00, -7.1102e+00, -4.4263e+00, -6.9946e+00,\n",
       "          -2.3114e+01,  1.3885e+00,  5.8775e+00, -4.5684e+00,  5.4416e+00,\n",
       "          -4.6323e+00, -1.6270e+01],\n",
       "         [-1.0993e+01, -3.7058e+00, -3.2482e+00, -1.7647e+01, -1.2308e+00,\n",
       "          -5.4095e+00, -1.8433e+01,  7.0609e+00, -1.1631e+00, -5.2315e+00,\n",
       "          -5.1190e+00, -6.1172e+00,  6.0159e+00, -1.4457e+00,  6.9507e+00,\n",
       "          -2.0601e+00, -2.8010e+00, -1.8394e+00,  2.5130e+00,  4.7995e+00,\n",
       "          -6.7413e+00, -1.5785e+00, -2.2095e+00, -1.3288e+01,  1.1966e+01,\n",
       "          -2.2529e+00,  2.5294e+00],\n",
       "         [-1.0351e+01, -5.2275e+00, -9.8599e+00, -8.6755e+00, -1.6428e+00,\n",
       "           1.0818e+01,  1.2809e+01,  1.8916e+00,  1.7662e+00,  8.9216e+00,\n",
       "          -1.3663e+01, -4.5386e+00, -2.0012e+00,  9.0071e+00,  2.0975e+00,\n",
       "          -1.1258e+01, -8.3677e+00,  8.9266e+00,  9.3686e+00,  6.7991e+00,\n",
       "          -4.7636e+00,  3.8306e+00,  4.7264e-01,  1.3465e+01, -4.2639e+00,\n",
       "           8.2839e+00,  5.6539e-01],\n",
       "         [ 1.7928e+00,  1.3591e+01, -8.9882e-01,  8.0834e+00, -9.6878e-01,\n",
       "          -1.0697e+01, -8.3257e-01, -1.7417e+00,  4.9212e+00, -1.3040e+01,\n",
       "           1.9497e+00,  5.4379e-01, -2.4617e+00,  1.4200e+01,  5.0532e+00,\n",
       "           7.7130e+00,  2.3154e+00,  1.1620e+01,  4.1573e+00, -1.4298e+01,\n",
       "           5.7151e+00, -5.1980e+00, -3.3893e+00, -1.0822e+01,  1.9608e+01,\n",
       "           4.2984e+00,  1.0983e+01],\n",
       "         [ 1.2500e+00,  1.1862e+01, -6.3317e+00,  4.9247e-01,  3.4293e+00,\n",
       "          -9.7851e+00,  1.0489e+01,  2.0602e+00,  1.5385e+01, -5.3870e+00,\n",
       "           9.0678e-01,  9.3057e+00, -5.4643e+00,  2.4360e+01,  1.2101e+01,\n",
       "          -1.0238e+01, -1.5341e+01, -6.7510e+00,  1.6166e+01, -2.0027e+00,\n",
       "           2.6972e+00,  1.4041e+01,  1.6112e+01,  7.7515e+00,  2.2927e+00,\n",
       "          -5.9691e+00,  6.8522e+00],\n",
       "         [ 1.2916e+01,  2.2836e+01, -4.4303e+00,  9.9077e+00, -4.2022e+00,\n",
       "          -4.3781e+00, -3.4991e+00, -5.0987e-01,  8.9603e+00,  1.1966e+00,\n",
       "          -6.7546e-01,  5.1555e+00, -1.6615e+01,  2.6630e+00,  7.7155e+00,\n",
       "           2.5451e+00,  1.1727e+01,  6.2868e+00, -5.8288e+00, -7.7190e+00,\n",
       "           7.0657e+00,  1.0448e+01,  5.1148e+00, -1.4451e+01,  1.5407e+01,\n",
       "          -1.2086e+01,  6.4699e+00]]),\n",
       " torch.Size([32, 27]))"
      ]
     },
     "execution_count": 93,
     "metadata": {},
     "output_type": "execute_result"
    }
   ],
   "source": [
    "logits, logits.shape"
   ]
  },
  {
   "cell_type": "code",
   "execution_count": 94,
   "metadata": {},
   "outputs": [],
   "source": [
    "counts = logits.exp()"
   ]
  },
  {
   "cell_type": "code",
   "execution_count": 95,
   "metadata": {},
   "outputs": [],
   "source": [
    "prob = counts / counts.sum(1, keepdims=True)\n"
   ]
  },
  {
   "cell_type": "code",
   "execution_count": 96,
   "metadata": {},
   "outputs": [
    {
     "data": {
      "text/plain": [
       "torch.Size([32, 27])"
      ]
     },
     "execution_count": 96,
     "metadata": {},
     "output_type": "execute_result"
    }
   ],
   "source": [
    "prob.shape"
   ]
  },
  {
   "cell_type": "code",
   "execution_count": 98,
   "metadata": {},
   "outputs": [
    {
     "data": {
      "text/plain": [
       "tensor(-16.8830)"
      ]
     },
     "execution_count": 98,
     "metadata": {},
     "output_type": "execute_result"
    }
   ],
   "source": [
    "nll = -prob[torch.arange(32), Y].log().mean()"
   ]
  },
  {
   "cell_type": "code",
   "execution_count": 124,
   "metadata": {},
   "outputs": [
    {
     "data": {
      "text/plain": [
       "(torch.Size([16, 5]), torch.Size([16]))"
      ]
     },
     "execution_count": 124,
     "metadata": {},
     "output_type": "execute_result"
    }
   ],
   "source": [
    "X.shape, Y.shape"
   ]
  },
  {
   "cell_type": "code",
   "execution_count": 129,
   "metadata": {},
   "outputs": [],
   "source": [
    "\n",
    "g = torch.Generator().manual_seed(214783647)\n",
    "C = torch.randn((27, 2), generator=g)\n",
    "W1 = torch.randn((6, 100), generator=g)\n",
    "b1 = torch.randn(100, generator=g)\n",
    "\n",
    "W2 = torch.randn((100, 27), generator=g)\n",
    "b2 = torch.randn(27, generator=g)\n",
    "\n",
    "parameters = [ C, W1, b1, W2, b2]"
   ]
  },
  {
   "cell_type": "code",
   "execution_count": 130,
   "metadata": {},
   "outputs": [
    {
     "data": {
      "text/plain": [
       "3481"
      ]
     },
     "execution_count": 130,
     "metadata": {},
     "output_type": "execute_result"
    }
   ],
   "source": [
    "sum(p.nelement() for p in parameters)"
   ]
  },
  {
   "cell_type": "code",
   "execution_count": 132,
   "metadata": {},
   "outputs": [
    {
     "data": {
      "text/plain": [
       "tensor(17.8873)"
      ]
     },
     "execution_count": 132,
     "metadata": {},
     "output_type": "execute_result"
    }
   ],
   "source": [
    "# forward pass\n",
    "\n",
    "for _ in range(10):\n",
    "  emb = C[X] # (32, 3, 2)\n",
    "  h = torch.tanh(emb.view(-1, 6) @ W1 + b1) # (32, 100) also pytorch derives the -1 dim\n",
    "\n",
    "  logits = h @ W2 + b2 # (32, 27)\n",
    "\n",
    "  # CROSS ENTROPY\n",
    "  # counts = logits.exp()\n",
    "  # prob = counts / counts.sum(1, keepdims=True)\n",
    "  # loss = -prob[torch.arange(32), Y].log().mean() \n",
    "  # equivelant to:\n",
    "  loss = F.cross_entropy(logits, Y)\n",
    "  print(loss)\n",
    "\n",
    "  # backward pass\n",
    "  for p in parameters:\n",
    "    p.grad = None\n",
    "\n",
    "  loss.backward()\n",
    "\n",
    "  for p in parameters:\n",
    "    p.data += -0.1 * p.grad\n"
   ]
  },
  {
   "cell_type": "code",
   "execution_count": null,
   "metadata": {},
   "outputs": [],
   "source": [
    "\n",
    "\n"
   ]
  }
 ],
 "metadata": {
  "kernelspec": {
   "display_name": "Python 3.10.6 64-bit",
   "language": "python",
   "name": "python3"
  },
  "language_info": {
   "codemirror_mode": {
    "name": "ipython",
    "version": 3
   },
   "file_extension": ".py",
   "mimetype": "text/x-python",
   "name": "python",
   "nbconvert_exporter": "python",
   "pygments_lexer": "ipython3",
   "version": "3.10.6"
  },
  "orig_nbformat": 4,
  "vscode": {
   "interpreter": {
    "hash": "b0fa6594d8f4cbf19f97940f81e996739fb7646882a419484c72d19e05852a7e"
   }
  }
 },
 "nbformat": 4,
 "nbformat_minor": 2
}
